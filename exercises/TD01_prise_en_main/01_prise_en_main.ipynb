{
  "cells": [
    {
      "cell_type": "markdown",
      "metadata": {
        "id": "LSKNpOqoXssX"
      },
      "source": [
        "# TD 1: Environnement de programmation et premiers pas avec Python"
      ]
    },
    {
      "cell_type": "markdown",
      "metadata": {
        "id": "yXS0vWCpXssY"
      },
      "source": [
        "---\n",
        "\n",
        "## 1.Vérification de l'installation de l'environnement de programmation\n",
        "\n",
        "Avant de débuter ce td, vous devez avoir suivi la procédure d'installation [INSTALL.md](https://github.com/uvsq-info/l1-python/blob/master/INSTALL.md) si vous utilisez votre ordinateur personnel. Et, que vous utilisiez votre ordinateur personnel ou bien un ordinateur du cartable numérique, vous avez testé toutes les étapes du [tutoriel de prise en main de l'environnement de programmation](https://github.com/uvsq-info/l1-python/blob/master/README.md) jusqu'à la partie **utilisation du projet dans un terminal**. Si un des tests ne marche pas, appelez un enseignant. Si vous ne réusissez pas à exécuter le code du notebook, et en attendant que l'on vienne vous aider, vous pouvez travailler en utilisant un [notebook en ligne](https://colab.research.google.com/notebooks/intro.ipynb). Le notebook en ligne est aussi une solution pour programmer depuis chez vous si vous n'avez pas installé l'environnement correctement. Mais la solution privilégiée reste d'installer l'environnement.\n",
        "\n",
        "Tout au long du travail que vous ferez sur les notebooks, pensez à sauvegarder via la barre de menus *File* puis *Save* ou avec le raccourci clavier Ctrl+S. Lorsqu'un fichier est correctement sauvegardé, le rond blanc disposé à côté du nom du fichier en haut de VSCode disparait.\n",
        "A la fin du td, mais également à la fin de chaque section du notebook, pensez à sauvegardez votre travail sur votre compte github.\n",
        "\n",
        "Afin d'utiliser les cellules de ce notebook, en haut à droite de la fenêtre cliquer sur \"Select Kernel\" et choisir \"Python 3.9.X XX-bit ('l1-python': conda)\"."
      ]
    },
    {
      "cell_type": "markdown",
      "metadata": {
        "id": "X-8J9eO6XssZ"
      },
      "source": [
        "---\n",
        "## 2.Utilisation du notebook Python\n",
        "\n",
        "Dans un premier temps, nous allons voir comment utiliser le notebook. Le notebook permet d'écrire du code que l'on peut évaluer au fur et à mesure. Plus tard, nous programmerons dans un fichier texte, en utilisant l'éditeur VisualStudioCode (VSCode dans la suite) et l'environnement qu'il fournit pour écrire des programmes en Python. \n",
        "\n",
        "Un notebook contient des *cellules* qui sont de deux sortes: il y a des cellules de texte écrites dans un langage de mise en forme de texte appelé *Markdown*, et les cellules de code que vous allez remplir. Les cellules de code sont sur fond gris et un triangle gris apparait sur la gauche de la cellule lorsque votre souris la survole.\n",
        "\n",
        "1. Dans la cellule de code suivante, tapez `1 + 1` puis évaluez la cellule en cliquant sur le triangle gris situé à gauche de la cellule.\n",
        "\n",
        "\n"
      ]
    },
    {
      "cell_type": "code",
      "execution_count": 8,
      "metadata": {
        "colab": {
          "base_uri": "https://localhost:8080/"
        },
        "id": "oO0HB2TiXssZ",
        "outputId": "ec03c5b5-ec18-4275-d4d1-b0136afcdef2"
      },
      "outputs": [
        {
          "output_type": "execute_result",
          "data": {
            "text/plain": [
              "2"
            ]
          },
          "metadata": {},
          "execution_count": 8
        }
      ],
      "source": [
        "1+1"
      ]
    },
    {
      "cell_type": "markdown",
      "metadata": {
        "id": "AaBncQspXssa"
      },
      "source": [
        "2. Cliquez de nouveau sur cette cellule et appuyez sur les touches `SHIFT + ENTREE` du clavier.\n",
        "\n",
        "**Note**: Cela évalue également la cellule de code. Remarquez le numéro qui s'affiche dans les crochets à gauche de la cellule de code : c'est *l'ordre d'évaluation* de la cellule. \n",
        "\n",
        "3. Dans la cellule suivante, affectez le résultat de l'expression `1 + 1` à une variable notée `a`. Bien entendu, évaluez la cellule (on ne le rappellera pas systématiquement)."
      ]
    },
    {
      "cell_type": "code",
      "execution_count": 9,
      "metadata": {
        "id": "A6_u5ig5Xssa"
      },
      "outputs": [],
      "source": [
        "a=1+1"
      ]
    },
    {
      "cell_type": "markdown",
      "metadata": {
        "id": "qDdws3jiXssa"
      },
      "source": [
        "4. Remarquez que l'évaluation de cette cellule ne génère aucun *texte  en sortie*. Pour connaître la valeur de la variable `a`, tapez le nom de la variable dans la cellule suivante."
      ]
    },
    {
      "cell_type": "code",
      "execution_count": 10,
      "metadata": {
        "id": "vIGXyZvEXssa"
      },
      "outputs": [],
      "source": [
        "a=1+1"
      ]
    },
    {
      "cell_type": "markdown",
      "metadata": {
        "id": "Xw25FXW7Xssb"
      },
      "source": [
        "5. Testez maintenant l'expression `print(a)`."
      ]
    },
    {
      "cell_type": "markdown",
      "source": [],
      "metadata": {
        "id": "k0XlXhCfY97E"
      }
    },
    {
      "cell_type": "code",
      "execution_count": 11,
      "metadata": {
        "tags": [],
        "colab": {
          "base_uri": "https://localhost:8080/"
        },
        "id": "_O-e_GrmXssb",
        "outputId": "268e8bac-6ff5-4995-b3a5-de11ecf89dad"
      },
      "outputs": [
        {
          "output_type": "stream",
          "name": "stdout",
          "text": [
            "2\n"
          ]
        }
      ],
      "source": [
        "print(a)"
      ]
    },
    {
      "cell_type": "markdown",
      "metadata": {
        "id": "7ks8YNL2Xssb"
      },
      "source": [
        "Le résultat est identique. La première méthode fonctionne dans le notebook, mais pas dans un programme Python. C'est pourquoi il vaut mieux utiliser la deuxième méthode qui repose sur l'utilisation de la *fonction native* `print()`. L'ensemble de ces fonctions est [disponible ici](https://docs.python.org/fr/3.5/library/functions.html).\n",
        "\n",
        "6. Augmentez de 1 la valeur de `a`. L'expression doit donner le bon résultat quelle que soit la valeur de la variable."
      ]
    },
    {
      "cell_type": "code",
      "execution_count": 14,
      "metadata": {
        "id": "IQRHfj9cXssb"
      },
      "outputs": [],
      "source": [
        "a=1+a"
      ]
    },
    {
      "cell_type": "markdown",
      "metadata": {
        "id": "K9_O7wn5Xssb"
      },
      "source": [
        "Et vérifiez en affichant la valeur de `a`."
      ]
    },
    {
      "cell_type": "code",
      "execution_count": 15,
      "metadata": {
        "tags": [],
        "colab": {
          "base_uri": "https://localhost:8080/"
        },
        "id": "CxA9ibIuXssc",
        "outputId": "73535077-b908-49f5-805e-dc6d51d1f58a"
      },
      "outputs": [
        {
          "output_type": "stream",
          "name": "stdout",
          "text": [
            "4\n"
          ]
        }
      ],
      "source": [
        "print(a)"
      ]
    },
    {
      "cell_type": "markdown",
      "metadata": {
        "id": "-YZx44VRXssc"
      },
      "source": [
        "7. Ré-évaluez toutes les cellules où vous avez affiché la valeur de `a`. Que remarquez-vous? On voit ici que ce qui compte dans le notebook est *l'ordre d'évaluation* et non pas *l'ordre d'apparition* des cellules. Ce comportement est source d'erreur, il faut donc bien y faire attention.\n",
        "\n",
        "8. Sans écrire de code supplémentaire, augmentez encore de 1 la valeur de `a`, et vérifiez que ça a bien fonctionné.\n",
        "\n",
        "**Note**: les 5 questions suivantes sont relatives à l'usage du notebook dans VSCode. Si vous travaillez avec un autre type de notebook, il est possible que vous n'ayez pas accès à toutes ces fonctionnalités.\n",
        "\n",
        "9. Parmi les icônes situés en haut du notebook, cliquez sur `Clear Outputs` puis ré-évaluez la variable `a`.\n",
        "\n",
        "10. Parmi les icônes situés en haut du notebook, cliquez sur `Variables` et regardez le résultat. Cet outil est très utile pour comprendre les erreurs liées à l'ordre d'évaluation des cellules.\n",
        "\n",
        "11. Parmi les icônes situés en haut du notebook, cliquez sur `Restart` et regardez le résultat dans l'affichage des variables. Ré-évaluez la variable `a`. Que se passe-t'il ?\n",
        "\n",
        "12. Enfin, sauvegardez votre travail.\n",
        "\n",
        "13. Dans la cellule suivante, affectez la valeur 5 à la variable `a` et la valeur 2 à la variable `b`, puis afficher les 2 valeurs avec l'expression `print(a, b)`.\n"
      ]
    },
    {
      "cell_type": "code",
      "execution_count": 16,
      "metadata": {
        "tags": [],
        "id": "42kbrb5yXssc"
      },
      "outputs": [],
      "source": [
        "a=5;b=2"
      ]
    },
    {
      "cell_type": "markdown",
      "metadata": {
        "id": "s1CzsGFsXssc"
      },
      "source": [
        "15. Ecrivez le code qui permet d'échanger la valeur des variables `a` et `b`. Puis affichez leurs valeurs."
      ]
    },
    {
      "cell_type": "code",
      "execution_count": 17,
      "metadata": {
        "tags": [],
        "colab": {
          "base_uri": "https://localhost:8080/"
        },
        "id": "STEnb-pOXssc",
        "outputId": "503d5007-0587-48a8-c011-17c22ea6b974"
      },
      "outputs": [
        {
          "output_type": "stream",
          "name": "stdout",
          "text": [
            "5 2\n"
          ]
        }
      ],
      "source": [
        "print(a,b)"
      ]
    },
    {
      "cell_type": "markdown",
      "metadata": {
        "id": "Fq5oI4o1Xssc"
      },
      "source": [
        "16. Pour enrichir l'affichage, recopiez l'expression `print(\"a vaut\", a, \"et b vaut\", b)`."
      ]
    },
    {
      "cell_type": "code",
      "execution_count": 18,
      "metadata": {
        "tags": [],
        "colab": {
          "base_uri": "https://localhost:8080/"
        },
        "id": "5Qc-y_txXssd",
        "outputId": "a774a4ff-15e3-48aa-a8b8-ab5b0eb7b869"
      },
      "outputs": [
        {
          "output_type": "stream",
          "name": "stdout",
          "text": [
            "a vaut 5 et b vaut 2\n"
          ]
        }
      ],
      "source": [
        "print(\"a vaut\", a, \"et b vaut\", b)"
      ]
    },
    {
      "cell_type": "markdown",
      "metadata": {
        "id": "JKWYhFH1Xssd"
      },
      "source": [
        "17.  Recopiez l'affectation suivante `a = \"hello world\"`, puis affichez la valeur de `a`."
      ]
    },
    {
      "cell_type": "code",
      "execution_count": 19,
      "metadata": {
        "tags": [],
        "id": "LqYqMj3TXssd"
      },
      "outputs": [],
      "source": [
        "a = \"hello world\""
      ]
    },
    {
      "cell_type": "markdown",
      "metadata": {
        "id": "6rWMRYYsXssd"
      },
      "source": [
        "**Note**: la variable `a` contenait un entier, et maintenant une chaîne de caractères. En Python les variables ont un *type dynamique* contrairement au type statique où le type des variables est défini une fois pour toutes. De plus ce typage est *implicite*, c'est-à-dire qu'il est déterminé par les objets auxquels les variables font référence sans avoir besoin de l'écrire explicitement.\n",
        "\n",
        "18. Afficher de nouveau la valeur de `a` sans utiliser la fonction `print`. Que constatez-vous?\n",
        "\n",
        "19. Avant de passer à la suite, sauvegardez votre notebook, et sauvegardez le sur github."
      ]
    },
    {
      "cell_type": "markdown",
      "metadata": {
        "id": "xp3srjrrXssd"
      },
      "source": [
        "\n",
        "-------------------\n",
        "## 3.Types de données\n",
        "En Python, toute variable ou expression possède un *type* qui définit, entre autres, les opérations que l'on peut lui  appliquer. Parmi les types natifs on peut citer les nombres entiers, les nombres flottants, les chaînes de caractères (string en anglais) et les booléens (Vrai ou Faux).\n",
        "\n",
        "\n",
        "1. Prédisez le type de chacune des expressions suivantes. Vérifiez le à l'aide de la fonction `type()`:\n",
        "\n",
        "* `5`\n",
        "* `5.0`\n",
        "* `\"5\"`\n",
        "* `-5`\n",
        "* `5 / 2`\n",
        "* `5 // 2`\n",
        "* ` 5 == 2  `\n",
        "* `5 = 2`"
      ]
    },
    {
      "cell_type": "code",
      "execution_count": 29,
      "metadata": {
        "colab": {
          "base_uri": "https://localhost:8080/"
        },
        "id": "MR7NtnajXssd",
        "outputId": "77b81425-e5e2-4299-89d2-11aa0692c4cf"
      },
      "outputs": [
        {
          "output_type": "execute_result",
          "data": {
            "text/plain": [
              "int"
            ]
          },
          "metadata": {},
          "execution_count": 29
        }
      ],
      "source": [
        "type(5)"
      ]
    },
    {
      "cell_type": "markdown",
      "metadata": {
        "id": "DV68Sp9cXssd"
      },
      "source": [
        "Ce sont les types de base du langage Python que nous allons étudier dans la suite. Notez que les nombres flottants s'écrivent avec un point et non avec une virgule.\n",
        "\n",
        "2. Faites la même chose avec les expressions suivantes:\n",
        "\n",
        "* `(5, 2)`\n",
        "* `[5, 2]`\n",
        "* `{5, 2}`\n"
      ]
    },
    {
      "cell_type": "code",
      "execution_count": 33,
      "metadata": {
        "colab": {
          "base_uri": "https://localhost:8080/"
        },
        "id": "XyzrBqOSXsse",
        "outputId": "9d8c60e8-02cc-4995-b607-77d99726db43"
      },
      "outputs": [
        {
          "output_type": "execute_result",
          "data": {
            "text/plain": [
              "{2, 5}"
            ]
          },
          "metadata": {},
          "execution_count": 33
        }
      ],
      "source": [
        "{5, 2}"
      ]
    },
    {
      "cell_type": "markdown",
      "metadata": {
        "id": "gFm6vxdzXsse"
      },
      "source": [
        "Ce sont des types avancés, qui permettent de construire des structures de données plus complexes, que nous apprendrons à manipuler plus tard. Pouvez-vous trouver une expression ayant un autre type?  Vous pouvez consulter la [documentation Python sur les types](https://docs.python.org/fr/3/library/stdtypes.html).\n",
        "\n",
        "3. Maintenant, affectez une valeur à une variable `x`, et écrivez le code qui affiche, par exemple, `le type de x est <class 'int'>` si jamais la valeur stockée dans `x` est un entier.\n"
      ]
    },
    {
      "cell_type": "code",
      "execution_count": null,
      "metadata": {
        "tags": [],
        "id": "qafaudjqXsse"
      },
      "outputs": [],
      "source": []
    },
    {
      "cell_type": "markdown",
      "metadata": {
        "id": "zf4JsTNoXsse"
      },
      "source": [
        "\n",
        "### 3.1 Type numérique entier\n",
        "\n",
        "1. Affectez une valeur entière à une variable `v`.\n"
      ]
    },
    {
      "cell_type": "code",
      "execution_count": null,
      "metadata": {
        "id": "GZ9nlrpNXsse"
      },
      "outputs": [],
      "source": []
    },
    {
      "cell_type": "markdown",
      "metadata": {
        "id": "VhR9if3RXsse"
      },
      "source": [
        "2. Ecrivez le résultat de la division entière de `v` par 11. Par exemple, si `v` vaut 149, le résultat affiché doit être de la forme: \n",
        "\n",
        "`149 = 13 x 11 + 6`"
      ]
    },
    {
      "cell_type": "code",
      "execution_count": null,
      "metadata": {
        "tags": [],
        "id": "cCse1MV4Xssf"
      },
      "outputs": [],
      "source": []
    },
    {
      "cell_type": "markdown",
      "metadata": {
        "id": "1TJ_ZpO_Xssf"
      },
      "source": [
        "3. Prédisez le résultat des expressions suivantes, puis évaluer le code:\n",
        "* `3 * (10 / 3)`\n",
        "* `3 * (10 // 3)`\n",
        "* `(3 * 10) // 3`"
      ]
    },
    {
      "cell_type": "code",
      "execution_count": null,
      "metadata": {
        "id": "BkVONdNfXssf"
      },
      "outputs": [],
      "source": []
    },
    {
      "cell_type": "markdown",
      "metadata": {
        "id": "CDOwBbq6Xssf"
      },
      "source": [
        "5. Le résultat change-t'il si on retire les parenthèses des expressions précédentes?"
      ]
    },
    {
      "cell_type": "markdown",
      "metadata": {
        "id": "2DnwIremXssf"
      },
      "source": [
        "\n",
        "6. Affectez un nombre entier à une variable, puis écrivez une expression qui affiche `True` si la variable est paire et `False` sinon."
      ]
    },
    {
      "cell_type": "code",
      "execution_count": null,
      "metadata": {
        "tags": [],
        "id": "fmw_i5LGXssf"
      },
      "outputs": [],
      "source": []
    },
    {
      "cell_type": "markdown",
      "metadata": {
        "id": "gOe0hs_0Xssf"
      },
      "source": [
        "7. L'opérateur puissance s'écrit `**`. Par exemple, 2 à la puissance 10 s'écrit `2 ** 10`. Affichez la valeur de 2 puissance 256. Combien de chiffres a ce nombre (en évitant de compter sur l'écran)?"
      ]
    },
    {
      "cell_type": "code",
      "execution_count": null,
      "metadata": {
        "tags": [],
        "id": "iliVFknfXssf"
      },
      "outputs": [],
      "source": []
    },
    {
      "cell_type": "markdown",
      "metadata": {
        "id": "gXD83s9vXssg"
      },
      "source": [
        "**Note**:  les nombres entiers ont une précision arbitraire."
      ]
    },
    {
      "cell_type": "markdown",
      "metadata": {
        "id": "WM90CKT1Xssg"
      },
      "source": [
        "Ecrire l'expression qui donne le dernier chiffre du nombre référencé par la variable `a`."
      ]
    },
    {
      "cell_type": "code",
      "execution_count": null,
      "metadata": {
        "tags": [],
        "id": "D4ce8LWaXssg"
      },
      "outputs": [],
      "source": []
    },
    {
      "cell_type": "markdown",
      "metadata": {
        "id": "0Nn1cpnKXssg"
      },
      "source": [
        "Ecrire l'expression qui donne l'avant-dernier chiffre du nombre référencé par la variable `a`."
      ]
    },
    {
      "cell_type": "code",
      "execution_count": null,
      "metadata": {
        "tags": [],
        "id": "3ISTGbbJXssg"
      },
      "outputs": [],
      "source": []
    },
    {
      "cell_type": "markdown",
      "metadata": {
        "id": "N-mcvOPiXssg"
      },
      "source": [
        "\n",
        "### 3.2 Nombres flottants\n",
        "\n",
        "1. L'expression `0.2 + 0.4` est-elle égale, supérieure ou inférieure à `0.6`?"
      ]
    },
    {
      "cell_type": "code",
      "execution_count": null,
      "metadata": {
        "tags": [],
        "id": "pNT8sFMgXssg"
      },
      "outputs": [],
      "source": []
    },
    {
      "cell_type": "markdown",
      "metadata": {
        "id": "NOsfrWvlXssg"
      },
      "source": [
        "2. Affectez la valeur 0.5 à une variable `x`. Multipliez `x` par $2^{30}$ puis convertissez le résultat obtenu en valeur entière (utilisez la fonction `int()`) puis divisez le résultat par $2^{30}$ (faire une division flottante)."
      ]
    },
    {
      "cell_type": "code",
      "execution_count": null,
      "metadata": {
        "tags": [],
        "id": "pP3k5uMEXssh"
      },
      "outputs": [],
      "source": []
    },
    {
      "cell_type": "markdown",
      "metadata": {
        "id": "ewwgYH7rXssh"
      },
      "source": [
        "3. Remplacez la valeur de `x` par 0.1 et refaites le calcul."
      ]
    },
    {
      "cell_type": "markdown",
      "metadata": {
        "id": "7V693uhyXssh"
      },
      "source": [
        "4. Pouvez-vous trouver d'autres valeurs de `x` pour lesquelles l'expression calculée redonne la valeur de `x`?\n",
        "\n",
        "**Note**: les nombres flottants que l'on manipule sont en fait une approximation de ces nombres. Pour plus de détails, vous pouvez consulter [cet article](https://docs.python.org/fr/3.8/tutorial/floatingpoint.html)."
      ]
    },
    {
      "cell_type": "markdown",
      "metadata": {
        "id": "ZiRThkwaXssh"
      },
      "source": [
        "### 3.3 Chaînes de caractères"
      ]
    },
    {
      "cell_type": "markdown",
      "metadata": {
        "id": "vuscQf8YXssh"
      },
      "source": [
        "1. Dans la cellule de code suivante, affichez le résultat de l'expression `a + b`, et de `b + a`"
      ]
    },
    {
      "cell_type": "code",
      "execution_count": null,
      "metadata": {
        "tags": [],
        "id": "LBDDMANWXssh"
      },
      "outputs": [],
      "source": [
        "a = \"hello\"\n",
        "b = 'world'"
      ]
    },
    {
      "cell_type": "markdown",
      "metadata": {
        "id": "dvR4n8q2Xssh"
      },
      "source": [
        "**Notes**: les chaînes de caractères peuvent s'écrire avec des guillemets simples ou doubles (d'autres formes existent). L'opération d'addition de chaînes est appelée *concaténation*.\n",
        "\n",
        "2. Dans la cellule précédente, ajoutez un espace entre `hello` et `world` sans modifier les variables."
      ]
    },
    {
      "cell_type": "markdown",
      "metadata": {
        "id": "fiH38DVfXssh"
      },
      "source": [
        "3. Avant d'afficher le résultat, prédire ce que valent `a * 3` et `(a + b) * 2`?"
      ]
    },
    {
      "cell_type": "code",
      "execution_count": null,
      "metadata": {
        "tags": [],
        "id": "Jc9dTz65Xssi"
      },
      "outputs": [],
      "source": []
    },
    {
      "cell_type": "markdown",
      "metadata": {
        "id": "hsCEL2cmXssi"
      },
      "source": [
        "4. On peut appliquer des *méthodes* (ce sont des fonctions qui s'appliquent à un certain type d'objets) à une chaîne de caractères. Par exemple tester ce que vaut `a.upper()`."
      ]
    },
    {
      "cell_type": "code",
      "execution_count": null,
      "metadata": {
        "id": "q9V9fupEXssi"
      },
      "outputs": [],
      "source": []
    },
    {
      "cell_type": "markdown",
      "metadata": {
        "id": "sCU5XfvvXssi"
      },
      "source": [
        "Vous pouvez voir la liste des méthodes associées aux chaînes de caractères (ainsi que sur les autres types natifs) sur [cette page](https://docs.python.org/fr/3/library/stdtypes.html#string-methods).\n",
        "\n",
        "5. La variable `a` a-t'elle été modifiée?"
      ]
    },
    {
      "cell_type": "code",
      "execution_count": null,
      "metadata": {
        "id": "6fxIvuq2Xssi"
      },
      "outputs": [],
      "source": []
    },
    {
      "cell_type": "markdown",
      "metadata": {
        "id": "9spiOJMPXssi"
      },
      "source": [
        "6. Que vaut `a > b`?"
      ]
    },
    {
      "cell_type": "code",
      "execution_count": null,
      "metadata": {
        "tags": [],
        "id": "ftyTTt1QXssi"
      },
      "outputs": [],
      "source": []
    },
    {
      "cell_type": "markdown",
      "metadata": {
        "id": "2wm2tGYiXssi"
      },
      "source": [
        "7. Quelle est la signification de cette comparaison?"
      ]
    },
    {
      "cell_type": "markdown",
      "metadata": {
        "id": "3OI4hbkmXssi"
      },
      "source": [
        "### 3.4 Conversions"
      ]
    },
    {
      "cell_type": "markdown",
      "metadata": {
        "id": "dnfcWkglXssj"
      },
      "source": [
        "1. Dans la cellule de code suivante, devinez ce que vaut `a * 2` avant de l'afficher."
      ]
    },
    {
      "cell_type": "code",
      "execution_count": null,
      "metadata": {
        "tags": [],
        "id": "BEGEIUXZXssj"
      },
      "outputs": [],
      "source": [
        "a = \"32\""
      ]
    },
    {
      "cell_type": "markdown",
      "metadata": {
        "id": "LNZuKDeTXssj"
      },
      "source": [
        "2. Utilisez la fonction de conversion `int()` pour obtenir le résultat de la multiplication de nombres entiers (64 ici)."
      ]
    },
    {
      "cell_type": "code",
      "execution_count": null,
      "metadata": {
        "tags": [],
        "id": "Yh3N8tFDXssj"
      },
      "outputs": [],
      "source": []
    },
    {
      "cell_type": "markdown",
      "metadata": {
        "id": "CtRNEYdBXssj"
      },
      "source": [
        "3. Ecrivez l'expression `s = input(\"Tape quelquechose au clavier\")` puis affichez `s`. Que se passe-t'il?"
      ]
    },
    {
      "cell_type": "code",
      "execution_count": null,
      "metadata": {
        "tags": [],
        "id": "jzxQqu5fXssj"
      },
      "outputs": [],
      "source": []
    },
    {
      "cell_type": "markdown",
      "metadata": {
        "id": "EMKl0UyYXssj"
      },
      "source": [
        "4. Recopiez le code de la cellule précédente. L'utilisateur doit saisir un nombre entier puis vous affichez ce nombre multiplié par 2."
      ]
    },
    {
      "cell_type": "code",
      "execution_count": null,
      "metadata": {
        "tags": [],
        "id": "1I-GUcFVXssj"
      },
      "outputs": [],
      "source": []
    },
    {
      "cell_type": "markdown",
      "metadata": {
        "id": "uYC8o3tzXssk"
      },
      "source": [
        "5. ́Ecrivez le code qui demande son âge à l’utilisateur et répond en utilisant sa réponse au milieu d’une phrase, comme par exemple en lui donnant l’âge qu’il aura en 2031 le même jour."
      ]
    },
    {
      "cell_type": "code",
      "execution_count": null,
      "metadata": {
        "tags": [],
        "id": "t_eS2WyIXssk"
      },
      "outputs": [],
      "source": []
    },
    {
      "cell_type": "markdown",
      "metadata": {
        "id": "cOI0_BPaXssk"
      },
      "source": [
        "6. Avant de passer à la suite, sauvegardez votre notebook sur github."
      ]
    },
    {
      "cell_type": "markdown",
      "metadata": {
        "id": "xGQ2-QQWXssk"
      },
      "source": [
        "---\n",
        "## Exercices supplémentaires"
      ]
    },
    {
      "cell_type": "markdown",
      "metadata": {
        "tags": [],
        "id": "yZKJjZLSXssk"
      },
      "source": [
        "1. Parmi les chaînes de caractères suivantes, lesquelles peuvent être des noms de variable?\n",
        "* `f`\n",
        "* `l`\n",
        "* `f2`\n",
        "* `2f`\n",
        "* `totolehero`\n",
        "* `toto_le_hero`\n",
        "* `import`\n",
        "* `toto2-le-retour`\n",
        "\n",
        "Et parmi les noms corrects, lesquels ne sont pas recommandés (voir la [PEP8](https://www.python.org/dev/peps/pep-0008/#naming-conventions))?\n"
      ]
    },
    {
      "cell_type": "markdown",
      "metadata": {
        "id": "NAIO0RheXssk"
      },
      "source": [
        "2. Demandez à l'utilisateur de rentrer un nombre, puis afficher sa racine carrée en faisant une phrase."
      ]
    },
    {
      "cell_type": "code",
      "execution_count": null,
      "metadata": {
        "tags": [],
        "id": "3nwj0AjMXssl"
      },
      "outputs": [],
      "source": []
    },
    {
      "cell_type": "markdown",
      "metadata": {
        "id": "-5V6b3FnXssl"
      },
      "source": [
        "3. Ecrivez le code qui affiche:\n",
        "* la chaı̂ne ”aaaaaa...” (250 ”a”)\n",
        "* la chaı̂ne ”bbbb....a” (250 ”b” suivis d’un ”a”)\n",
        "* la chaı̂ne ”bbbb....aaabbb...” (250 ”b” suivis d’un ”a” suivi de 100 b)\n",
        "* 50 fois ”bonjour” en allant à la ligne à chaque fois (utilisez ”\\n”)\n"
      ]
    },
    {
      "cell_type": "code",
      "execution_count": null,
      "metadata": {
        "tags": [],
        "id": "ggBTY2FlXssl"
      },
      "outputs": [],
      "source": []
    }
  ],
  "metadata": {
    "kernelspec": {
      "display_name": "Python 3",
      "language": "python",
      "name": "python3"
    },
    "language_info": {
      "codemirror_mode": {
        "name": "ipython",
        "version": 3
      },
      "file_extension": ".py",
      "mimetype": "text/x-python",
      "name": "python",
      "nbconvert_exporter": "python",
      "pygments_lexer": "ipython3",
      "version": "3.7.6-final"
    },
    "colab": {
      "provenance": []
    }
  },
  "nbformat": 4,
  "nbformat_minor": 0
}